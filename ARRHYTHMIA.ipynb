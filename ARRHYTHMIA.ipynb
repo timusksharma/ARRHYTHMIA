{
 "cells": [
  {
   "cell_type": "markdown",
   "metadata": {},
   "source": [
    "# Detecting arrythmia using Deep Leaning"
   ]
  },
  {
   "cell_type": "markdown",
   "metadata": {},
   "source": [
    "## Loading modules"
   ]
  },
  {
   "cell_type": "code",
   "execution_count": 1,
   "metadata": {},
   "outputs": [],
   "source": [
    "import pandas as pd\n",
    "import numpy as np\n",
    "import wfdb\n",
    "from sklearn.model_selection import train_test_split\n",
    "from sklearn.preprocessing import StandardScaler\n",
    "import matplotlib.pyplot as plt\n",
    "from pathlib import Path"
   ]
  },
  {
   "cell_type": "code",
   "execution_count": 2,
   "metadata": {},
   "outputs": [
    {
     "name": "stderr",
     "output_type": "stream",
     "text": [
      "Using TensorFlow backend.\n"
     ]
    }
   ],
   "source": [
    "from keras.models import Sequential\n",
    "from keras.layers import Conv1D, LSTM, Dense, Dropout, TimeDistributed\n",
    "from keras.optimizers import Adam"
   ]
  },
  {
   "cell_type": "code",
   "execution_count": 3,
   "metadata": {},
   "outputs": [],
   "source": [
    "import matplotlib.pyplot as plt"
   ]
  },
  {
   "cell_type": "markdown",
   "metadata": {},
   "source": [
    "## Download Dataset"
   ]
  },
  {
   "cell_type": "code",
   "execution_count": 4,
   "metadata": {},
   "outputs": [],
   "source": [
    "import wget\n",
    "import zipfile\n",
    "\n",
    "database_filename = \"mit-bih-arrhythmia-database-1.0.0.zip\"\n",
    "database_path = Path(database_filename)\n",
    "\n",
    "if not database_path.exists():\n",
    "    url = f'https://storage.googleapis.com/mitdb-1.0.0.physionet.org/{database_filename}'\n",
    "    wget.download(url)\n",
    "    with zipfile.ZipFile(database_filename, 'r') as zip_ref:\n",
    "        zip_ref.extractall(\".\")"
   ]
  },
  {
   "cell_type": "markdown",
   "metadata": {},
   "source": [
    "## Loading data"
   ]
  },
  {
   "cell_type": "markdown",
   "metadata": {},
   "source": [
    "Loading list of records available, from dataset available [here](https://physionet.org/content/mitdb/1.0.0/)"
   ]
  },
  {
   "cell_type": "code",
   "execution_count": 5,
   "metadata": {},
   "outputs": [],
   "source": [
    "records = np.loadtxt(\"mit-bih-arrhythmia-database-1.0.0/RECORDS\", dtype=int)"
   ]
  },
  {
   "cell_type": "markdown",
   "metadata": {},
   "source": [
    "Defining invalid beats as well as abnormal beats, according to [Physiobank](https://archive.physionet.org/physiobank/annotations.shtml)"
   ]
  },
  {
   "cell_type": "code",
   "execution_count": 6,
   "metadata": {},
   "outputs": [],
   "source": [
    "invalid_beat = [\n",
    "    \"[\", \"!\", \"]\", \"x\", \"(\", \")\", \"p\", \"t\", \n",
    "    \"u\", \"`\", \"'\", \"^\", \"|\", \"~\", \"+\", \"s\", \n",
    "    \"T\", \"*\", \"D\", \"=\", '\"', \"@\"\n",
    "]\n",
    "\n",
    "abnormal_beats = [\n",
    "    \"L\", \"R\", \"B\", \"A\", \"a\", \"J\", \"S\", \"V\", \n",
    "    \"r\", \"F\", \"e\", \"j\", \"n\", \"E\", \"/\", \"f\", \"Q\", \"?\"\n",
    "]"
   ]
  },
  {
   "cell_type": "markdown",
   "metadata": {},
   "source": [
    "## Processing dataset"
   ]
  },
  {
   "cell_type": "markdown",
   "metadata": {},
   "source": [
    "This function classify a beat according to its symbol and the list provided above."
   ]
  },
  {
   "cell_type": "code",
   "execution_count": 7,
   "metadata": {},
   "outputs": [],
   "source": [
    "def classify_beat(symbol):\n",
    "    if symbol in abnormal_beats:\n",
    "        return 1\n",
    "    elif symbol == \"N\" or symbol == \".\":\n",
    "        return 0    "
   ]
  },
  {
   "cell_type": "markdown",
   "metadata": {},
   "source": [
    "Given a signal, the beat location, and the window to be used as a sequence, this function gets the sequence. It will return an empty array in case of an invalid beat or empty sequence."
   ]
  },
  {
   "cell_type": "code",
   "execution_count": 8,
   "metadata": {},
   "outputs": [],
   "source": [
    "def get_sequence(signal, beat_loc, window_sec, fs):\n",
    "    window_one_side = window_sec * fs\n",
    "    beat_start = beat_loc - window_one_side\n",
    "    beat_end = beat_loc + window_one_side\n",
    "    if beat_end < signal.shape[0]:\n",
    "        sequence = signal[beat_start:beat_end, 0]\n",
    "        return sequence.reshape(1, -1, 1)\n",
    "    else:\n",
    "        return np.array([])"
   ]
  },
  {
   "cell_type": "markdown",
   "metadata": {},
   "source": [
    "The code below will build a list of labels and sequences as well as map the sequences for each patient. The percentage calculated represents the ratio of abnormal beats in each patient data."
   ]
  },
  {
   "cell_type": "code",
   "execution_count": 9,
   "metadata": {},
   "outputs": [],
   "source": [
    "all_sequences = []\n",
    "all_labels = []\n",
    "window_sec = 3\n",
    "subject_map = []\n",
    "for subject in records:\n",
    "    record = wfdb.rdrecord(f'mit-bih-arrhythmia-database-1.0.0/{subject}')\n",
    "    annotation = wfdb.rdann(f'mit-bih-arrhythmia-database-1.0.0/{subject}', 'atr')\n",
    "    atr_symbol = annotation.symbol\n",
    "    atr_sample = annotation.sample\n",
    "    fs = record.fs\n",
    "    scaler = StandardScaler()\n",
    "    signal = scaler.fit_transform(record.p_signal)\n",
    "    subject_labels = []\n",
    "    for i, i_sample in enumerate(atr_sample):\n",
    "        label = classify_beat(atr_symbol[i])\n",
    "        sequence = get_sequence(signal, i_sample, window_sec, fs)\n",
    "        if label is not None and sequence.size > 0:\n",
    "            all_sequences.append(sequence)\n",
    "            subject_labels.append(label)\n",
    "\n",
    "    normal_percentage = sum(subject_labels) / len(subject_labels)\n",
    "    subject_map.append({\n",
    "        \"subject\": subject,\n",
    "        \"percentage\": normal_percentage,\n",
    "        \"num_seq\": len(subject_labels),\n",
    "        \"start\": len(all_labels),\n",
    "        \"end\": len(all_labels)+len(subject_labels)\n",
    "    })\n",
    "    all_labels.extend(subject_labels)"
   ]
  },
  {
   "cell_type": "markdown",
   "metadata": {},
   "source": [
    "Creating bins to be used to stratify the train and validation split. "
   ]
  },
  {
   "cell_type": "code",
   "execution_count": 10,
   "metadata": {},
   "outputs": [],
   "source": [
    "subject_map = pd.DataFrame(subject_map)"
   ]
  },
  {
   "cell_type": "markdown",
   "metadata": {},
   "source": [
    "The code presented will create class in each patient is segmented."
   ]
  },
  {
   "cell_type": "code",
   "execution_count": 11,
   "metadata": {},
   "outputs": [],
   "source": [
    "bins = [0, 0.2, 0.6, 1.0]\n",
    "subject_map[\"bin\"] = pd.cut(subject_map['percentage'], bins=bins, labels=False, include_lowest=True)"
   ]
  },
  {
   "cell_type": "markdown",
   "metadata": {},
   "source": [
    "Now, the dataset is split into train and validation, stratifying by the bin defined above."
   ]
  },
  {
   "cell_type": "code",
   "execution_count": 12,
   "metadata": {},
   "outputs": [],
   "source": [
    "train, validation = train_test_split(subject_map, test_size=0.25, stratify=subject_map[\"bin\"], random_state=42)"
   ]
  },
  {
   "cell_type": "markdown",
   "metadata": {},
   "source": [
    "This function build a dataset based on the map for each split."
   ]
  },
  {
   "cell_type": "code",
   "execution_count": 13,
   "metadata": {},
   "outputs": [],
   "source": [
    "def build_dataset(df, all_sequences, all_labels):\n",
    "    sequences = []\n",
    "    labels = []\n",
    "    for i, row in df.iterrows():\n",
    "        start = int(row[\"start\"])\n",
    "        end = int(row[\"end\"])\n",
    "        sequences.extend(all_sequences[start:end])\n",
    "        labels.extend(all_labels[start:end])\n",
    "        \n",
    "    return np.vstack(sequences), np.vstack(labels)"
   ]
  },
  {
   "cell_type": "code",
   "execution_count": 14,
   "metadata": {},
   "outputs": [],
   "source": [
    "X_train, y_train = build_dataset(train, all_sequences, all_labels)\n",
    "X_val, y_val = build_dataset(validation, all_sequences, all_labels)"
   ]
  },
  {
   "cell_type": "code",
   "execution_count": 15,
   "metadata": {},
   "outputs": [
    {
     "data": {
      "text/plain": [
       "((82873, 2160, 1), (82873, 1))"
      ]
     },
     "execution_count": 15,
     "metadata": {},
     "output_type": "execute_result"
    }
   ],
   "source": [
    "X_train.shape, y_train.shape"
   ]
  },
  {
   "cell_type": "markdown",
   "metadata": {},
   "source": [
    "## Training the model"
   ]
  },
  {
   "cell_type": "markdown",
   "metadata": {},
   "source": [
    "### CNN model"
   ]
  },
  {
   "cell_type": "code",
   "execution_count": 16,
   "metadata": {},
   "outputs": [
    {
     "name": "stdout",
     "output_type": "stream",
     "text": [
      "Model: \"sequential_1\"\n",
      "_________________________________________________________________\n",
      "Layer (type)                 Output Shape              Param #   \n",
      "=================================================================\n",
      "conv1d_1 (Conv1D)            (None, 2160, 8)           40        \n",
      "_________________________________________________________________\n",
      "flatten_1 (Flatten)          (None, 17280)             0         \n",
      "_________________________________________________________________\n",
      "dropout_1 (Dropout)          (None, 17280)             0         \n",
      "_________________________________________________________________\n",
      "output (Dense)               (None, 1)                 17281     \n",
      "=================================================================\n",
      "Total params: 17,321\n",
      "Trainable params: 17,321\n",
      "Non-trainable params: 0\n",
      "_________________________________________________________________\n"
     ]
    }
   ],
   "source": [
    "from keras.models import Sequential\n",
    "from keras.layers import Conv1D, Flatten, Dense, Dropout\n",
    "from keras.optimizers import Adam\n",
    "\n",
    "sequence_size = X_train.shape[1]\n",
    "n_features = 1\n",
    "\n",
    "cnn_model = Sequential([\n",
    "    Conv1D(\n",
    "        filters=8,\n",
    "        kernel_size=4,\n",
    "        strides=1,\n",
    "        input_shape=(sequence_size, n_features),\n",
    "        padding=\"same\",\n",
    "        activation=\"relu\"\n",
    "    ),\n",
    "    Flatten(),\n",
    "    Dropout(0.5),\n",
    "    Dense(\n",
    "        1,\n",
    "        activation=\"sigmoid\",\n",
    "        name=\"output\",\n",
    "    )\n",
    "])\n",
    "\n",
    "optimizer = Adam(lr=0.001)\n",
    "# Compiling the model\n",
    "cnn_model.compile(\n",
    "    optimizer=optimizer,\n",
    "    loss=\"binary_crossentropy\",\n",
    "    metrics=[\"accuracy\"]\n",
    ")\n",
    "cnn_model.summary()"
   ]
  },
  {
   "cell_type": "code",
   "execution_count": 17,
   "metadata": {},
   "outputs": [
    {
     "name": "stdout",
     "output_type": "stream",
     "text": [
      "Train on 82873 samples, validate on 26259 samples\n",
      "Epoch 1/15\n",
      "82873/82873 [==============================] - 20s 243us/step - loss: 0.2443 - accuracy: 0.9114 - val_loss: 0.5876 - val_accuracy: 0.8045\n",
      "Epoch 2/15\n",
      "82873/82873 [==============================] - 19s 230us/step - loss: 0.1987 - accuracy: 0.9332 - val_loss: 0.5883 - val_accuracy: 0.8171\n",
      "Epoch 3/15\n",
      "82873/82873 [==============================] - 20s 237us/step - loss: 0.1849 - accuracy: 0.9386 - val_loss: 0.5848 - val_accuracy: 0.8228\n",
      "Epoch 4/15\n",
      "82873/82873 [==============================] - 21s 253us/step - loss: 0.1749 - accuracy: 0.9421 - val_loss: 0.6172 - val_accuracy: 0.8064\n",
      "Epoch 5/15\n",
      "82873/82873 [==============================] - 18s 218us/step - loss: 0.1637 - accuracy: 0.9466 - val_loss: 0.6132 - val_accuracy: 0.8327\n",
      "Epoch 6/15\n",
      "82873/82873 [==============================] - 19s 230us/step - loss: 0.1525 - accuracy: 0.9505 - val_loss: 0.6310 - val_accuracy: 0.8308\n",
      "Epoch 7/15\n",
      "82873/82873 [==============================] - 20s 247us/step - loss: 0.1420 - accuracy: 0.9544 - val_loss: 0.6532 - val_accuracy: 0.8207\n",
      "Epoch 8/15\n",
      "82873/82873 [==============================] - 18s 221us/step - loss: 0.1317 - accuracy: 0.9584 - val_loss: 0.6516 - val_accuracy: 0.8319\n",
      "Epoch 9/15\n",
      "82873/82873 [==============================] - 18s 222us/step - loss: 0.1265 - accuracy: 0.9594 - val_loss: 0.6402 - val_accuracy: 0.8247\n",
      "Epoch 10/15\n",
      "82873/82873 [==============================] - 19s 230us/step - loss: 0.1225 - accuracy: 0.9611 - val_loss: 0.6516 - val_accuracy: 0.8251\n",
      "Epoch 11/15\n",
      "82873/82873 [==============================] - 22s 268us/step - loss: 0.1194 - accuracy: 0.9623 - val_loss: 0.7349 - val_accuracy: 0.8187\n",
      "Epoch 12/15\n",
      "82873/82873 [==============================] - 22s 270us/step - loss: 0.1182 - accuracy: 0.9626 - val_loss: 0.7318 - val_accuracy: 0.8215\n",
      "Epoch 13/15\n",
      "82873/82873 [==============================] - 20s 246us/step - loss: 0.1155 - accuracy: 0.9636 - val_loss: 0.6909 - val_accuracy: 0.8177\n",
      "Epoch 14/15\n",
      "82873/82873 [==============================] - 20s 238us/step - loss: 0.1157 - accuracy: 0.9640 - val_loss: 0.7250 - val_accuracy: 0.8179\n",
      "Epoch 15/15\n",
      "82873/82873 [==============================] - 19s 231us/step - loss: 0.1123 - accuracy: 0.9649 - val_loss: 0.7014 - val_accuracy: 0.8190\n"
     ]
    }
   ],
   "source": [
    "hist_cnn = cnn_model.fit(\n",
    "    X_train, \n",
    "    y_train, \n",
    "    batch_size=128,\n",
    "    epochs=15,\n",
    "    validation_data=(X_val, y_val)\n",
    ")"
   ]
  },
  {
   "cell_type": "code",
   "execution_count": 18,
   "metadata": {},
   "outputs": [
    {
     "name": "stdout",
     "output_type": "stream",
     "text": [
      "26259/26259 [==============================] - 3s 112us/step\n"
     ]
    },
    {
     "data": {
      "text/plain": [
       "[0.7013566436303422, 0.8189954161643982]"
      ]
     },
     "execution_count": 18,
     "metadata": {},
     "output_type": "execute_result"
    }
   ],
   "source": [
    "cnn_model.evaluate(X_val, y_val)"
   ]
  },
  {
   "cell_type": "code",
   "execution_count": 19,
   "metadata": {},
   "outputs": [
    {
     "data": {
      "image/png": "[encoded data removed]",
      "text/plain": [
       "<Figure size 432x288 with 1 Axes>"
      ]
     },
     "metadata": {
      "needs_background": "light"
     },
     "output_type": "display_data"
    }
   ],
   "source": [
    "# summarize history for accuracy\n",
    "plt.plot(hist_cnn.history['accuracy'])\n",
    "plt.plot(hist_cnn.history['val_accuracy'])\n",
    "plt.title('CNN model accuracy')\n",
    "plt.ylabel('accuracy')\n",
    "plt.xlabel('epoch')\n",
    "plt.legend(['train', 'test'], loc='upper left')\n",
    "plt.show()"
   ]
  },
  {
   "cell_type": "code",
   "execution_count": 20,
   "metadata": {},
   "outputs": [
    {
     "data": {
      "image/png": "[encoded data removed]",
      "text/plain": [
       "<Figure size 432x288 with 1 Axes>"
      ]
     },
     "metadata": {
      "needs_background": "light"
     },
     "output_type": "display_data"
    }
   ],
   "source": [
    "# summarize history for loss\n",
    "plt.plot(hist_cnn.history['loss'])\n",
    "plt.plot(hist_cnn.history['val_loss'])\n",
    "plt.title('CNN model loss')\n",
    "plt.ylabel('loss')\n",
    "plt.xlabel('epoch')\n",
    "plt.legend(['train', 'test'], loc='upper left')\n",
    "plt.show()"
   ]
  },
  {
   "cell_type": "markdown",
   "metadata": {},
   "source": [
    "### CNN with LSTM model"
   ]
  },
  {
   "cell_type": "code",
   "execution_count": 21,
   "metadata": {},
   "outputs": [],
   "source": [
    "sequence_size = X_train.shape[1]\n",
    "n_features = 1 \n",
    "n_subsequences = 4\n",
    "subsequence_size = int(sequence_size / n_subsequences)\n",
    "\n",
    "# Reshaping to be (samples, subsequences, sequence, feature)\n",
    "X_train = X_train.reshape(-1, n_subsequences, subsequence_size, n_features)\n",
    "X_val = X_val.reshape(-1, n_subsequences, subsequence_size, n_features)"
   ]
  },
  {
   "cell_type": "code",
   "execution_count": 22,
   "metadata": {},
   "outputs": [
    {
     "name": "stdout",
     "output_type": "stream",
     "text": [
      "Model: \"sequential_2\"\n",
      "_________________________________________________________________\n",
      "Layer (type)                 Output Shape              Param #   \n",
      "=================================================================\n",
      "time_distributed_1 (TimeDist (None, 4, 540, 8)         40        \n",
      "_________________________________________________________________\n",
      "time_distributed_2 (TimeDist (None, 4, 4320)           0         \n",
      "_________________________________________________________________\n",
      "lstm_1 (LSTM)                (None, 4)                 69200     \n",
      "_________________________________________________________________\n",
      "output (Dense)               (None, 1)                 5         \n",
      "=================================================================\n",
      "Total params: 69,245\n",
      "Trainable params: 69,245\n",
      "Non-trainable params: 0\n",
      "_________________________________________________________________\n"
     ]
    }
   ],
   "source": [
    "cnn_lstm_model = Sequential([\n",
    "    TimeDistributed(\n",
    "        Conv1D(\n",
    "            filters=8,\n",
    "            kernel_size=4,\n",
    "            strides=1,\n",
    "            padding=\"same\",\n",
    "            activation=\"relu\"\n",
    "        ), \n",
    "        input_shape=(n_subsequences, subsequence_size, n_features)\n",
    "    ),\n",
    "    TimeDistributed(Flatten()),\n",
    "    LSTM(units=4),\n",
    "    Dense(\n",
    "        1,\n",
    "        activation=\"sigmoid\",\n",
    "        name=\"output\",\n",
    "    )\n",
    "])\n",
    "\n",
    "optimizer = Adam(lr=0.001)\n",
    "# Compiling the model\n",
    "cnn_lstm_model.compile(\n",
    "    optimizer=optimizer,\n",
    "    loss=\"binary_crossentropy\",\n",
    "    metrics=[\"accuracy\"]\n",
    ")\n",
    "cnn_lstm_model.summary()"
   ]
  },
  {
   "cell_type": "code",
   "execution_count": 23,
   "metadata": {},
   "outputs": [
    {
     "name": "stdout",
     "output_type": "stream",
     "text": [
      "Train on 82873 samples, validate on 26259 samples\n",
      "Epoch 1/15\n",
      "82873/82873 [==============================] - 32s 392us/step - loss: 0.4007 - accuracy: 0.8190 - val_loss: 0.5778 - val_accuracy: 0.7292\n",
      "Epoch 2/15\n",
      "82873/82873 [==============================] - 31s 379us/step - loss: 0.2876 - accuracy: 0.9165 - val_loss: 0.5695 - val_accuracy: 0.7485\n",
      "Epoch 3/15\n",
      "82873/82873 [==============================] - 35s 418us/step - loss: 0.2364 - accuracy: 0.9315 - val_loss: 0.5630 - val_accuracy: 0.7583\n",
      "Epoch 4/15\n",
      "82873/82873 [==============================] - 33s 398us/step - loss: 0.2015 - accuracy: 0.9404 - val_loss: 0.5625 - val_accuracy: 0.7939\n",
      "Epoch 5/15\n",
      "82873/82873 [==============================] - 31s 379us/step - loss: 0.1774 - accuracy: 0.9472 - val_loss: 0.5838 - val_accuracy: 0.7827\n",
      "Epoch 6/15\n",
      "82873/82873 [==============================] - 32s 390us/step - loss: 0.1567 - accuracy: 0.9522 - val_loss: 0.6025 - val_accuracy: 0.7786\n",
      "Epoch 7/15\n",
      "82873/82873 [==============================] - 32s 382us/step - loss: 0.1406 - accuracy: 0.9572 - val_loss: 0.6540 - val_accuracy: 0.7651\n",
      "Epoch 8/15\n",
      "82873/82873 [==============================] - 32s 382us/step - loss: 0.1284 - accuracy: 0.9599 - val_loss: 0.6808 - val_accuracy: 0.7417\n",
      "Epoch 9/15\n",
      "82873/82873 [==============================] - 33s 399us/step - loss: 0.1192 - accuracy: 0.9619 - val_loss: 0.7171 - val_accuracy: 0.7560\n",
      "Epoch 10/15\n",
      "82873/82873 [==============================] - 29s 353us/step - loss: 0.1095 - accuracy: 0.9648 - val_loss: 0.7335 - val_accuracy: 0.7432\n",
      "Epoch 11/15\n",
      "82873/82873 [==============================] - 26s 319us/step - loss: 0.1033 - accuracy: 0.9664 - val_loss: 0.6954 - val_accuracy: 0.7760\n",
      "Epoch 12/15\n",
      "82873/82873 [==============================] - 31s 375us/step - loss: 0.0957 - accuracy: 0.9697 - val_loss: 0.7656 - val_accuracy: 0.7539\n",
      "Epoch 13/15\n",
      "82873/82873 [==============================] - 27s 324us/step - loss: 0.0907 - accuracy: 0.9710 - val_loss: 0.7534 - val_accuracy: 0.7518\n",
      "Epoch 14/15\n",
      "82873/82873 [==============================] - 28s 339us/step - loss: 0.0848 - accuracy: 0.9730 - val_loss: 0.7886 - val_accuracy: 0.7647\n",
      "Epoch 15/15\n",
      "82873/82873 [==============================] - 28s 344us/step - loss: 0.0796 - accuracy: 0.9744 - val_loss: 0.7202 - val_accuracy: 0.7799\n"
     ]
    }
   ],
   "source": [
    "train_params = {\n",
    "    \"batch_size\": 128,\n",
    "    \"epochs\": 15,\n",
    "    \"verbose\": 1,\n",
    "    \"validation_data\": (X_val, y_val),\n",
    "}\n",
    "\n",
    "history_cnn_lstm = cnn_lstm_model.fit(X_train, y_train, **train_params)"
   ]
  },
  {
   "cell_type": "code",
   "execution_count": 24,
   "metadata": {},
   "outputs": [
    {
     "name": "stdout",
     "output_type": "stream",
     "text": [
      "26259/26259 [==============================] - 3s 111us/step\n"
     ]
    },
    {
     "data": {
      "text/plain": [
       "[0.7201788701632584, 0.7799230813980103]"
      ]
     },
     "execution_count": 24,
     "metadata": {},
     "output_type": "execute_result"
    }
   ],
   "source": [
    "cnn_lstm_model.evaluate(X_val, y_val)"
   ]
  },
  {
   "cell_type": "code",
   "execution_count": 25,
   "metadata": {},
   "outputs": [
    {
     "data": {
      "image/png": "[encoded data removed]",
      "text/plain": [
       "<Figure size 432x288 with 1 Axes>"
      ]
     },
     "metadata": {
      "needs_background": "light"
     },
     "output_type": "display_data"
    }
   ],
   "source": [
    "# summarize history for accuracy\n",
    "plt.plot(history_cnn_lstm.history['accuracy'])\n",
    "plt.plot(history_cnn_lstm.history['val_accuracy'])\n",
    "plt.title('CNN-LSTM model accuracy')\n",
    "plt.ylabel('accuracy')\n",
    "plt.xlabel('epoch')\n",
    "plt.legend(['train', 'test'], loc='upper left')\n",
    "plt.show()"
   ]
  },
  {
   "cell_type": "code",
   "execution_count": 26,
   "metadata": {},
   "outputs": [
    {
     "data": {
      "image/png": "[encoded data removed]",
      "text/plain": [
       "<Figure size 432x288 with 1 Axes>"
      ]
     },
     "metadata": {
      "needs_background": "light"
     },
     "output_type": "display_data"
    }
   ],
   "source": [
    "# summarize history for loss\n",
    "plt.plot(history_cnn_lstm.history['loss'])\n",
    "plt.plot(history_cnn_lstm.history['val_loss'])\n",
    "plt.title('CNN-LSTM model loss')\n",
    "plt.ylabel('loss')\n",
    "plt.xlabel('epoch')\n",
    "plt.legend(['train', 'test'], loc='upper left')\n",
    "plt.show()"
   ]
  },
  {
   "cell_type": "code",
   "execution_count": null,
   "metadata": {},
   "outputs": [],
   "source": []
  }
 ],
 "metadata": {
  "kernelspec": {
   "display_name": "Python 3",
   "language": "python",
   "name": "python3"
  },
  "language_info": {
   "codemirror_mode": {
    "name": "ipython",
    "version": 3
   },
   "file_extension": ".py",
   "mimetype": "text/x-python",
   "name": "python",
   "nbconvert_exporter": "python",
   "pygments_lexer": "ipython3",
   "version": "3.7.5"
  }
 },
 "nbformat": 4,
 "nbformat_minor": 4
}
